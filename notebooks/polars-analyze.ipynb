{
 "cells": [
  {
   "cell_type": "markdown",
   "id": "508dcf4d",
   "metadata": {},
   "source": [
    "# Energy Monitor\n",
    "\n",
    "## Initializations"
   ]
  },
  {
   "cell_type": "code",
   "execution_count": null,
   "id": "73bcd8fa-2946-45c0-93a6-316a20b1428a",
   "metadata": {},
   "outputs": [],
   "source": [
    "import logging\n",
    "from pathlib import Path\n",
    "import polars as pl\n",
    "import altair as alt\n",
    "\n",
    "from analyze.loader import DeviceDataSource\n",
    "from analyze.logger import POLAR_ANALYZER_LOGGER\n",
    "from analyze.model import PolarDeviceData\n",
    "from analyze.common import PHASE_COLUMNS, Phase\n",
    "from config import config\n",
    "\n",
    "logging.basicConfig(level=logging.INFO, format=\"%(asctime)s - %(threadName)s - %(levelname)s - %(name)s - %(message)s\")\n",
    "POLAR_ANALYZER_LOGGER.setLevel(logging.INFO)\n",
    "logger = POLAR_ANALYZER_LOGGER.getChild(\"notebook\")"
   ]
  },
  {
   "cell_type": "markdown",
   "id": "9d225e9d",
   "metadata": {},
   "source": [
    "## Load data"
   ]
  },
  {
   "cell_type": "code",
   "execution_count": null,
   "id": "1697cc0e-136c-4334-9395-b11ca0c43d84",
   "metadata": {},
   "outputs": [],
   "source": [
    "data = PolarDeviceData.load([DeviceDataSource(f.dir, f.device) for f in config.files])"
   ]
  },
  {
   "cell_type": "markdown",
   "id": "a610fbf4",
   "metadata": {},
   "source": [
    "## Energy by Day of the Week"
   ]
  },
  {
   "cell_type": "code",
   "execution_count": null,
   "id": "6bbaff3d-1a9b-4e72-983c-fdfec8018ca8",
   "metadata": {},
   "outputs": [],
   "source": [
    "week_day = data.total_energy_by_day_of_week()\n",
    "week_day = week_day.with_columns(pl.concat_str([pl.col(\"device\"), pl.col(\"phase\")], separator=\"_\").alias(\"device_phase\"))\n",
    "week_day = week_day.collect()\n",
    "week_day.head(3)"
   ]
  },
  {
   "cell_type": "code",
   "execution_count": null,
   "id": "0f181074",
   "metadata": {},
   "outputs": [],
   "source": [
    "week_day_chart = (\n",
    "    alt.Chart(week_day)\n",
    "    .mark_bar(size=15, tooltip=True)\n",
    "    .encode(\n",
    "        x=alt.X(field=\"day_of_week\", type=\"nominal\").title(\"Day of week\").sort({\"field\": \"day_of_week_num\"}),\n",
    "        y=alt.Y(field=\"total_act_energy_kwh\", type=\"quantitative\").title(\"Energy [kWh]\"),\n",
    "        color=alt.Color(field=\"device_phase\", type=\"nominal\").title(\"Device / Phase\"),\n",
    "        order=alt.Order(field=\"device_phase\", type=\"nominal\"),\n",
    "    )\n",
    "    .properties(title=\"Energy by day of week\", width=250, height=400)\n",
    ")\n",
    "week_day_chart"
   ]
  },
  {
   "cell_type": "markdown",
   "id": "442a7ffe",
   "metadata": {},
   "source": [
    "## Energy by Month"
   ]
  },
  {
   "cell_type": "code",
   "execution_count": null,
   "id": "0e21709a",
   "metadata": {},
   "outputs": [],
   "source": [
    "month = data.total_energy(every=\"1mo\")\n",
    "month = month.with_columns(pl.concat_str([pl.col(\"device\"), pl.col(\"phase\")], separator=\"_\").alias(\"device_phase\"))\n",
    "month = month.collect()\n",
    "month.head(3)"
   ]
  },
  {
   "cell_type": "code",
   "execution_count": null,
   "id": "26affd1d",
   "metadata": {},
   "outputs": [],
   "source": [
    "chart = (\n",
    "    alt.Chart(month)\n",
    "    .mark_bar(size=20, tooltip=True)\n",
    "    .encode(\n",
    "        x=alt.X(\"date\", type=\"temporal\").title(\"Date\"),\n",
    "        y=alt.Y(\"total_act_energy_kwh\", type=\"quantitative\").title(\"Energy [kWh]\"),\n",
    "        color=alt.Color(\"device_phase\", type=\"nominal\").title(\"Device / Phase\"),\n",
    "    )\n",
    "    .properties(title=\"Energy by month\", width=400, height=400)\n",
    ")\n",
    "chart"
   ]
  },
  {
   "cell_type": "markdown",
   "id": "6e8ce139",
   "metadata": {},
   "source": [
    "## Energy by Week"
   ]
  },
  {
   "cell_type": "code",
   "execution_count": null,
   "id": "6fc41bcd",
   "metadata": {},
   "outputs": [],
   "source": [
    "week = data.total_energy(every=\"1w\")\n",
    "week = week.with_columns(pl.concat_str([pl.col(\"device\"), pl.col(\"phase\")], separator=\"_\").alias(\"device_phase\"))\n",
    "week = week.collect()\n",
    "week.head(3)"
   ]
  },
  {
   "cell_type": "code",
   "execution_count": null,
   "id": "5fc65fb2",
   "metadata": {
    "editable": true,
    "slideshow": {
     "slide_type": ""
    },
    "tags": []
   },
   "outputs": [],
   "source": [
    "week_chart = (\n",
    "    alt.Chart(week)\n",
    "    .mark_bar(size=10, tooltip=True)\n",
    "    .encode(\n",
    "        x=alt.X(\"date\", type=\"temporal\").title(\"Date\"),\n",
    "        y=alt.Y(\"total_act_energy_kwh\", type=\"quantitative\").title(\"Energy [kWh]\"),\n",
    "        color=alt.Color(\"device_phase\", type=\"nominal\").title(\"Device / Phase\"),\n",
    "    )\n",
    "    .properties(title=\"Energy by week\", width=600, height=400)\n",
    ")\n",
    "week_chart\n"
   ]
  }
 ],
 "metadata": {
  "kernelspec": {
   "display_name": ".venv",
   "language": "python",
   "name": "python3"
  },
  "language_info": {
   "codemirror_mode": {
    "name": "ipython",
    "version": 3
   },
   "file_extension": ".py",
   "mimetype": "text/x-python",
   "name": "python",
   "nbconvert_exporter": "python",
   "pygments_lexer": "ipython3",
   "version": "3.12.3"
  }
 },
 "nbformat": 4,
 "nbformat_minor": 5
}
