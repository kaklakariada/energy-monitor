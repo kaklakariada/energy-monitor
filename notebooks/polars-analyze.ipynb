{
 "cells": [
  {
   "cell_type": "code",
   "execution_count": null,
   "id": "73bcd8fa-2946-45c0-93a6-316a20b1428a",
   "metadata": {},
   "outputs": [],
   "source": [
    "import logging\n",
    "from pathlib import Path\n",
    "import polars as pl\n",
    "import altair as alt\n",
    "\n",
    "from analyze.loader import DeviceDataSource\n",
    "from analyze.logger import POLAR_ANALYZER_LOGGER\n",
    "from analyze.model import PolarDeviceData\n",
    "from analyze.common import PHASE_COLUMNS, Phase\n",
    "from config import config\n",
    "\n",
    "logging.basicConfig(level=logging.INFO, format=\"%(asctime)s - %(threadName)s - %(levelname)s - %(name)s - %(message)s\")\n",
    "POLAR_ANALYZER_LOGGER.setLevel(logging.INFO)\n",
    "logger = POLAR_ANALYZER_LOGGER.getChild(\"notebook\")"
   ]
  },
  {
   "cell_type": "code",
   "execution_count": null,
   "id": "1697cc0e-136c-4334-9395-b11ca0c43d84",
   "metadata": {},
   "outputs": [],
   "source": [
    "data = PolarDeviceData.load([DeviceDataSource(f.dir, f.device) for f in config.files])"
   ]
  },
  {
   "cell_type": "code",
   "execution_count": null,
   "id": "ab0e5f46-930c-4f5f-ae90-752255f6e099",
   "metadata": {},
   "outputs": [],
   "source": [
    "logger.info(\"Collecting data...\")\n",
    "df = data.phase_data.collect()\n",
    "logger.info(f\"Found {len(df)} rows\")\n",
    "df.head(3)"
   ]
  },
  {
   "cell_type": "markdown",
   "id": "a610fbf4",
   "metadata": {},
   "source": [
    "## Energy by day of week"
   ]
  },
  {
   "cell_type": "code",
   "execution_count": 42,
   "id": "6bbaff3d-1a9b-4e72-983c-fdfec8018ca8",
   "metadata": {},
   "outputs": [
    {
     "data": {
      "text/html": [
       "<div><style>\n",
       ".dataframe > thead > tr,\n",
       ".dataframe > tbody > tr {\n",
       "  text-align: right;\n",
       "  white-space: pre-wrap;\n",
       "}\n",
       "</style>\n",
       "<small>shape: (42, 6)</small><table border=\"1\" class=\"dataframe\"><thead><tr><th>day_of_week_num</th><th>device</th><th>phase</th><th>total_act_energy_kwh</th><th>day_of_week</th><th>device_phase</th></tr><tr><td>i8</td><td>str</td><td>enum</td><td>f64</td><td>enum</td><td>str</td></tr></thead><tbody><tr><td>1</td><td>&quot;unten&quot;</td><td>&quot;c&quot;</td><td>1.291304</td><td>&quot;Monday&quot;</td><td>&quot;unten_c&quot;</td></tr><tr><td>1</td><td>&quot;oben&quot;</td><td>&quot;c&quot;</td><td>0.10834</td><td>&quot;Monday&quot;</td><td>&quot;oben_c&quot;</td></tr><tr><td>1</td><td>&quot;unten&quot;</td><td>&quot;b&quot;</td><td>0.703121</td><td>&quot;Monday&quot;</td><td>&quot;unten_b&quot;</td></tr><tr><td>1</td><td>&quot;oben&quot;</td><td>&quot;b&quot;</td><td>0.156884</td><td>&quot;Monday&quot;</td><td>&quot;oben_b&quot;</td></tr><tr><td>1</td><td>&quot;unten&quot;</td><td>&quot;a&quot;</td><td>0.748198</td><td>&quot;Monday&quot;</td><td>&quot;unten_a&quot;</td></tr><tr><td>&hellip;</td><td>&hellip;</td><td>&hellip;</td><td>&hellip;</td><td>&hellip;</td><td>&hellip;</td></tr><tr><td>7</td><td>&quot;unten&quot;</td><td>&quot;c&quot;</td><td>1.491672</td><td>&quot;Sunday&quot;</td><td>&quot;unten_c&quot;</td></tr><tr><td>7</td><td>&quot;unten&quot;</td><td>&quot;b&quot;</td><td>0.691111</td><td>&quot;Sunday&quot;</td><td>&quot;unten_b&quot;</td></tr><tr><td>7</td><td>&quot;oben&quot;</td><td>&quot;c&quot;</td><td>0.097979</td><td>&quot;Sunday&quot;</td><td>&quot;oben_c&quot;</td></tr><tr><td>7</td><td>&quot;unten&quot;</td><td>&quot;a&quot;</td><td>1.060248</td><td>&quot;Sunday&quot;</td><td>&quot;unten_a&quot;</td></tr><tr><td>7</td><td>&quot;oben&quot;</td><td>&quot;b&quot;</td><td>0.271366</td><td>&quot;Sunday&quot;</td><td>&quot;oben_b&quot;</td></tr></tbody></table></div>"
      ],
      "text/plain": [
       "shape: (42, 6)\n",
       "┌─────────────────┬────────┬───────┬──────────────────────┬─────────────┬──────────────┐\n",
       "│ day_of_week_num ┆ device ┆ phase ┆ total_act_energy_kwh ┆ day_of_week ┆ device_phase │\n",
       "│ ---             ┆ ---    ┆ ---   ┆ ---                  ┆ ---         ┆ ---          │\n",
       "│ i8              ┆ str    ┆ enum  ┆ f64                  ┆ enum        ┆ str          │\n",
       "╞═════════════════╪════════╪═══════╪══════════════════════╪═════════════╪══════════════╡\n",
       "│ 1               ┆ unten  ┆ c     ┆ 1.291304             ┆ Monday      ┆ unten_c      │\n",
       "│ 1               ┆ oben   ┆ c     ┆ 0.10834              ┆ Monday      ┆ oben_c       │\n",
       "│ 1               ┆ unten  ┆ b     ┆ 0.703121             ┆ Monday      ┆ unten_b      │\n",
       "│ 1               ┆ oben   ┆ b     ┆ 0.156884             ┆ Monday      ┆ oben_b       │\n",
       "│ 1               ┆ unten  ┆ a     ┆ 0.748198             ┆ Monday      ┆ unten_a      │\n",
       "│ …               ┆ …      ┆ …     ┆ …                    ┆ …           ┆ …            │\n",
       "│ 7               ┆ unten  ┆ c     ┆ 1.491672             ┆ Sunday      ┆ unten_c      │\n",
       "│ 7               ┆ unten  ┆ b     ┆ 0.691111             ┆ Sunday      ┆ unten_b      │\n",
       "│ 7               ┆ oben   ┆ c     ┆ 0.097979             ┆ Sunday      ┆ oben_c       │\n",
       "│ 7               ┆ unten  ┆ a     ┆ 1.060248             ┆ Sunday      ┆ unten_a      │\n",
       "│ 7               ┆ oben   ┆ b     ┆ 0.271366             ┆ Sunday      ┆ oben_b       │\n",
       "└─────────────────┴────────┴───────┴──────────────────────┴─────────────┴──────────────┘"
      ]
     },
     "execution_count": 42,
     "metadata": {},
     "output_type": "execute_result"
    }
   ],
   "source": [
    "week_day = data.total_energy_by_day_of_week()\n",
    "week_day = week_day.with_columns(pl.concat_str([pl.col(\"device\"), pl.col(\"phase\")], separator=\"_\").alias(\"device_phase\"))\n",
    "week_day = week_day.collect()\n",
    "week_day"
   ]
  },
  {
   "cell_type": "code",
   "execution_count": 94,
   "id": "0f181074",
   "metadata": {},
   "outputs": [
    {
     "data": {
      "text/html": [
       "\n",
       "<style>\n",
       "  #altair-viz-2845030205404af39e614f98c9822854.vega-embed {\n",
       "    width: 100%;\n",
       "    display: flex;\n",
       "  }\n",
       "\n",
       "  #altair-viz-2845030205404af39e614f98c9822854.vega-embed details,\n",
       "  #altair-viz-2845030205404af39e614f98c9822854.vega-embed details summary {\n",
       "    position: relative;\n",
       "  }\n",
       "</style>\n",
       "<div id=\"altair-viz-2845030205404af39e614f98c9822854\"></div>\n",
       "<script type=\"text/javascript\">\n",
       "  var VEGA_DEBUG = (typeof VEGA_DEBUG == \"undefined\") ? {} : VEGA_DEBUG;\n",
       "  (function(spec, embedOpt){\n",
       "    let outputDiv = document.currentScript.previousElementSibling;\n",
       "    if (outputDiv.id !== \"altair-viz-2845030205404af39e614f98c9822854\") {\n",
       "      outputDiv = document.getElementById(\"altair-viz-2845030205404af39e614f98c9822854\");\n",
       "    }\n",
       "\n",
       "    const paths = {\n",
       "      \"vega\": \"https://cdn.jsdelivr.net/npm/vega@5?noext\",\n",
       "      \"vega-lib\": \"https://cdn.jsdelivr.net/npm/vega-lib?noext\",\n",
       "      \"vega-lite\": \"https://cdn.jsdelivr.net/npm/vega-lite@5.20.1?noext\",\n",
       "      \"vega-embed\": \"https://cdn.jsdelivr.net/npm/vega-embed@6?noext\",\n",
       "    };\n",
       "\n",
       "    function maybeLoadScript(lib, version) {\n",
       "      var key = `${lib.replace(\"-\", \"\")}_version`;\n",
       "      return (VEGA_DEBUG[key] == version) ?\n",
       "        Promise.resolve(paths[lib]) :\n",
       "        new Promise(function(resolve, reject) {\n",
       "          var s = document.createElement('script');\n",
       "          document.getElementsByTagName(\"head\")[0].appendChild(s);\n",
       "          s.async = true;\n",
       "          s.onload = () => {\n",
       "            VEGA_DEBUG[key] = version;\n",
       "            return resolve(paths[lib]);\n",
       "          };\n",
       "          s.onerror = () => reject(`Error loading script: ${paths[lib]}`);\n",
       "          s.src = paths[lib];\n",
       "        });\n",
       "    }\n",
       "\n",
       "    function showError(err) {\n",
       "      outputDiv.innerHTML = `<div class=\"error\" style=\"color:red;\">${err}</div>`;\n",
       "      throw err;\n",
       "    }\n",
       "\n",
       "    function displayChart(vegaEmbed) {\n",
       "      vegaEmbed(outputDiv, spec, embedOpt)\n",
       "        .catch(err => showError(`Javascript Error: ${err.message}<br>This usually means there's a typo in your chart specification. See the javascript console for the full traceback.`));\n",
       "    }\n",
       "\n",
       "    if(typeof define === \"function\" && define.amd) {\n",
       "      requirejs.config({paths});\n",
       "      let deps = [\"vega-embed\"];\n",
       "      require(deps, displayChart, err => showError(`Error loading script: ${err.message}`));\n",
       "    } else {\n",
       "      maybeLoadScript(\"vega\", \"5\")\n",
       "        .then(() => maybeLoadScript(\"vega-lite\", \"5.20.1\"))\n",
       "        .then(() => maybeLoadScript(\"vega-embed\", \"6\"))\n",
       "        .catch(showError)\n",
       "        .then(() => displayChart(vegaEmbed));\n",
       "    }\n",
       "  })({\"config\": {\"view\": {\"continuousWidth\": 300, \"continuousHeight\": 300}}, \"data\": {\"name\": \"data-b7d7d59790de8edc19ad15be0349f339\"}, \"mark\": {\"type\": \"bar\", \"size\": 15, \"tooltip\": true}, \"encoding\": {\"color\": {\"field\": \"device_phase\", \"title\": \"Device / Phase\", \"type\": \"nominal\"}, \"order\": {\"field\": \"device_phase\", \"type\": \"nominal\"}, \"x\": {\"field\": \"day_of_week\", \"sort\": {\"field\": \"day_of_week_num\"}, \"title\": \"Day of week\", \"type\": \"nominal\"}, \"y\": {\"field\": \"total_act_energy_kwh\", \"title\": \"Energy [kWh]\", \"type\": \"quantitative\"}}, \"title\": \"Energy by day of week\", \"$schema\": \"https://vega.github.io/schema/vega-lite/v5.20.1.json\", \"datasets\": {\"data-b7d7d59790de8edc19ad15be0349f339\": [{\"day_of_week_num\": 1, \"device\": \"unten\", \"phase\": \"c\", \"total_act_energy_kwh\": 1.291303510714286, \"day_of_week\": \"Monday\", \"device_phase\": \"unten_c\"}, {\"day_of_week_num\": 1, \"device\": \"oben\", \"phase\": \"c\", \"total_act_energy_kwh\": 0.10833988214285706, \"day_of_week\": \"Monday\", \"device_phase\": \"oben_c\"}, {\"day_of_week_num\": 1, \"device\": \"unten\", \"phase\": \"b\", \"total_act_energy_kwh\": 0.7031208857142845, \"day_of_week\": \"Monday\", \"device_phase\": \"unten_b\"}, {\"day_of_week_num\": 1, \"device\": \"oben\", \"phase\": \"b\", \"total_act_energy_kwh\": 0.15688447142857273, \"day_of_week\": \"Monday\", \"device_phase\": \"oben_b\"}, {\"day_of_week_num\": 1, \"device\": \"unten\", \"phase\": \"a\", \"total_act_energy_kwh\": 0.7481978035714284, \"day_of_week\": \"Monday\", \"device_phase\": \"unten_a\"}, {\"day_of_week_num\": 1, \"device\": \"oben\", \"phase\": \"a\", \"total_act_energy_kwh\": 0.36909867500000043, \"day_of_week\": \"Monday\", \"device_phase\": \"oben_a\"}, {\"day_of_week_num\": 2, \"device\": \"unten\", \"phase\": \"a\", \"total_act_energy_kwh\": 0.8588189535714278, \"day_of_week\": \"Tuesday\", \"device_phase\": \"unten_a\"}, {\"day_of_week_num\": 2, \"device\": \"unten\", \"phase\": \"c\", \"total_act_energy_kwh\": 1.2023833892857139, \"day_of_week\": \"Tuesday\", \"device_phase\": \"unten_c\"}, {\"day_of_week_num\": 2, \"device\": \"oben\", \"phase\": \"c\", \"total_act_energy_kwh\": 0.10531453571428544, \"day_of_week\": \"Tuesday\", \"device_phase\": \"oben_c\"}, {\"day_of_week_num\": 2, \"device\": \"unten\", \"phase\": \"b\", \"total_act_energy_kwh\": 0.7835332928571435, \"day_of_week\": \"Tuesday\", \"device_phase\": \"unten_b\"}, {\"day_of_week_num\": 2, \"device\": \"oben\", \"phase\": \"a\", \"total_act_energy_kwh\": 0.3894100500000005, \"day_of_week\": \"Tuesday\", \"device_phase\": \"oben_a\"}, {\"day_of_week_num\": 2, \"device\": \"oben\", \"phase\": \"b\", \"total_act_energy_kwh\": 0.29626519285714276, \"day_of_week\": \"Tuesday\", \"device_phase\": \"oben_b\"}, {\"day_of_week_num\": 3, \"device\": \"unten\", \"phase\": \"c\", \"total_act_energy_kwh\": 1.3403943392857147, \"day_of_week\": \"Wednesday\", \"device_phase\": \"unten_c\"}, {\"day_of_week_num\": 3, \"device\": \"unten\", \"phase\": \"b\", \"total_act_energy_kwh\": 0.820339639285713, \"day_of_week\": \"Wednesday\", \"device_phase\": \"unten_b\"}, {\"day_of_week_num\": 3, \"device\": \"oben\", \"phase\": \"c\", \"total_act_energy_kwh\": 0.10777155357142865, \"day_of_week\": \"Wednesday\", \"device_phase\": \"oben_c\"}, {\"day_of_week_num\": 3, \"device\": \"unten\", \"phase\": \"a\", \"total_act_energy_kwh\": 0.8048644500000003, \"day_of_week\": \"Wednesday\", \"device_phase\": \"unten_a\"}, {\"day_of_week_num\": 3, \"device\": \"oben\", \"phase\": \"a\", \"total_act_energy_kwh\": 0.340349546428572, \"day_of_week\": \"Wednesday\", \"device_phase\": \"oben_a\"}, {\"day_of_week_num\": 3, \"device\": \"oben\", \"phase\": \"b\", \"total_act_energy_kwh\": 0.18458670357142884, \"day_of_week\": \"Wednesday\", \"device_phase\": \"oben_b\"}, {\"day_of_week_num\": 4, \"device\": \"unten\", \"phase\": \"a\", \"total_act_energy_kwh\": 0.9172545214285706, \"day_of_week\": \"Thursday\", \"device_phase\": \"unten_a\"}, {\"day_of_week_num\": 4, \"device\": \"oben\", \"phase\": \"c\", \"total_act_energy_kwh\": 0.10866812142857164, \"day_of_week\": \"Thursday\", \"device_phase\": \"oben_c\"}, {\"day_of_week_num\": 4, \"device\": \"oben\", \"phase\": \"b\", \"total_act_energy_kwh\": 0.24358861428571393, \"day_of_week\": \"Thursday\", \"device_phase\": \"oben_b\"}, {\"day_of_week_num\": 4, \"device\": \"unten\", \"phase\": \"b\", \"total_act_energy_kwh\": 0.776516282142856, \"day_of_week\": \"Thursday\", \"device_phase\": \"unten_b\"}, {\"day_of_week_num\": 4, \"device\": \"oben\", \"phase\": \"a\", \"total_act_energy_kwh\": 0.4073911857142871, \"day_of_week\": \"Thursday\", \"device_phase\": \"oben_a\"}, {\"day_of_week_num\": 4, \"device\": \"unten\", \"phase\": \"c\", \"total_act_energy_kwh\": 1.2622395892857148, \"day_of_week\": \"Thursday\", \"device_phase\": \"unten_c\"}, {\"day_of_week_num\": 5, \"device\": \"oben\", \"phase\": \"b\", \"total_act_energy_kwh\": 0.22983961428571473, \"day_of_week\": \"Friday\", \"device_phase\": \"oben_b\"}, {\"day_of_week_num\": 5, \"device\": \"unten\", \"phase\": \"c\", \"total_act_energy_kwh\": 1.3219953892857146, \"day_of_week\": \"Friday\", \"device_phase\": \"unten_c\"}, {\"day_of_week_num\": 5, \"device\": \"oben\", \"phase\": \"a\", \"total_act_energy_kwh\": 0.41487977500000056, \"day_of_week\": \"Friday\", \"device_phase\": \"oben_a\"}, {\"day_of_week_num\": 5, \"device\": \"unten\", \"phase\": \"b\", \"total_act_energy_kwh\": 0.8637459928571436, \"day_of_week\": \"Friday\", \"device_phase\": \"unten_b\"}, {\"day_of_week_num\": 5, \"device\": \"oben\", \"phase\": \"c\", \"total_act_energy_kwh\": 0.10465580714285741, \"day_of_week\": \"Friday\", \"device_phase\": \"oben_c\"}, {\"day_of_week_num\": 5, \"device\": \"unten\", \"phase\": \"a\", \"total_act_energy_kwh\": 0.8385286892857141, \"day_of_week\": \"Friday\", \"device_phase\": \"unten_a\"}, {\"day_of_week_num\": 6, \"device\": \"oben\", \"phase\": \"c\", \"total_act_energy_kwh\": 0.10368739642857136, \"day_of_week\": \"Saturday\", \"device_phase\": \"oben_c\"}, {\"day_of_week_num\": 6, \"device\": \"oben\", \"phase\": \"b\", \"total_act_energy_kwh\": 0.18703046071428647, \"day_of_week\": \"Saturday\", \"device_phase\": \"oben_b\"}, {\"day_of_week_num\": 6, \"device\": \"unten\", \"phase\": \"c\", \"total_act_energy_kwh\": 1.3034929928571426, \"day_of_week\": \"Saturday\", \"device_phase\": \"unten_c\"}, {\"day_of_week_num\": 6, \"device\": \"unten\", \"phase\": \"b\", \"total_act_energy_kwh\": 0.5454721000000007, \"day_of_week\": \"Saturday\", \"device_phase\": \"unten_b\"}, {\"day_of_week_num\": 6, \"device\": \"oben\", \"phase\": \"a\", \"total_act_energy_kwh\": 0.33060872142857256, \"day_of_week\": \"Saturday\", \"device_phase\": \"oben_a\"}, {\"day_of_week_num\": 6, \"device\": \"unten\", \"phase\": \"a\", \"total_act_energy_kwh\": 0.8796416321428576, \"day_of_week\": \"Saturday\", \"device_phase\": \"unten_a\"}, {\"day_of_week_num\": 7, \"device\": \"oben\", \"phase\": \"a\", \"total_act_energy_kwh\": 0.32713507777777845, \"day_of_week\": \"Sunday\", \"device_phase\": \"oben_a\"}, {\"day_of_week_num\": 7, \"device\": \"unten\", \"phase\": \"c\", \"total_act_energy_kwh\": 1.491671611111112, \"day_of_week\": \"Sunday\", \"device_phase\": \"unten_c\"}, {\"day_of_week_num\": 7, \"device\": \"unten\", \"phase\": \"b\", \"total_act_energy_kwh\": 0.6911110925925933, \"day_of_week\": \"Sunday\", \"device_phase\": \"unten_b\"}, {\"day_of_week_num\": 7, \"device\": \"oben\", \"phase\": \"c\", \"total_act_energy_kwh\": 0.09797879999999981, \"day_of_week\": \"Sunday\", \"device_phase\": \"oben_c\"}, {\"day_of_week_num\": 7, \"device\": \"unten\", \"phase\": \"a\", \"total_act_energy_kwh\": 1.0602477777777783, \"day_of_week\": \"Sunday\", \"device_phase\": \"unten_a\"}, {\"day_of_week_num\": 7, \"device\": \"oben\", \"phase\": \"b\", \"total_act_energy_kwh\": 0.27136561111111296, \"day_of_week\": \"Sunday\", \"device_phase\": \"oben_b\"}]}}, {\"mode\": \"vega-lite\"});\n",
       "</script>"
      ],
      "text/plain": [
       "alt.Chart(...)"
      ]
     },
     "execution_count": 94,
     "metadata": {},
     "output_type": "execute_result"
    }
   ],
   "source": [
    "week_day_chart = alt.Chart(week_day).mark_bar(size=15, tooltip=True).encode(\n",
    "            x=alt.X(field=\"day_of_week\", type=\"nominal\").title(\"Day of week\").sort({\"field\": \"day_of_week_num\"}),\n",
    "            y=alt.Y(field=\"total_act_energy_kwh\", type=\"quantitative\").title(\"Energy [kWh]\"),\n",
    "            color=alt.Color(field=\"device_phase\", type=\"nominal\").title(\"Device / Phase\"),\n",
    "            order=alt.Order(field=\"device_phase\", type=\"nominal\")\n",
    "        ).properties(title=\"Energy by day of week\")\n",
    "week_day_chart"
   ]
  },
  {
   "cell_type": "markdown",
   "id": "442a7ffe",
   "metadata": {},
   "source": [
    "## Energy by Month"
   ]
  },
  {
   "cell_type": "code",
   "execution_count": 76,
   "id": "0e21709a",
   "metadata": {},
   "outputs": [
    {
     "data": {
      "text/html": [
       "<div><style>\n",
       ".dataframe > thead > tr,\n",
       ".dataframe > tbody > tr {\n",
       "  text-align: right;\n",
       "  white-space: pre-wrap;\n",
       "}\n",
       "</style>\n",
       "<small>shape: (42, 5)</small><table border=\"1\" class=\"dataframe\"><thead><tr><th>device</th><th>phase</th><th>date</th><th>total_act_energy_kwh</th><th>device_phase</th></tr><tr><td>str</td><td>enum</td><td>date</td><td>f64</td><td>str</td></tr></thead><tbody><tr><td>&quot;unten&quot;</td><td>&quot;a&quot;</td><td>2024-05-01</td><td>13.656692</td><td>&quot;unten_a&quot;</td></tr><tr><td>&quot;unten&quot;</td><td>&quot;a&quot;</td><td>2024-06-01</td><td>20.890274</td><td>&quot;unten_a&quot;</td></tr><tr><td>&quot;unten&quot;</td><td>&quot;a&quot;</td><td>2024-07-01</td><td>24.905331</td><td>&quot;unten_a&quot;</td></tr><tr><td>&quot;unten&quot;</td><td>&quot;a&quot;</td><td>2024-08-01</td><td>25.656352</td><td>&quot;unten_a&quot;</td></tr><tr><td>&quot;unten&quot;</td><td>&quot;a&quot;</td><td>2024-09-01</td><td>27.961295</td><td>&quot;unten_a&quot;</td></tr><tr><td>&hellip;</td><td>&hellip;</td><td>&hellip;</td><td>&hellip;</td><td>&hellip;</td></tr><tr><td>&quot;oben&quot;</td><td>&quot;c&quot;</td><td>2024-07-01</td><td>2.997995</td><td>&quot;oben_c&quot;</td></tr><tr><td>&quot;oben&quot;</td><td>&quot;c&quot;</td><td>2024-08-01</td><td>2.980132</td><td>&quot;oben_c&quot;</td></tr><tr><td>&quot;oben&quot;</td><td>&quot;c&quot;</td><td>2024-09-01</td><td>2.857883</td><td>&quot;oben_c&quot;</td></tr><tr><td>&quot;oben&quot;</td><td>&quot;c&quot;</td><td>2024-10-01</td><td>3.006239</td><td>&quot;oben_c&quot;</td></tr><tr><td>&quot;oben&quot;</td><td>&quot;c&quot;</td><td>2024-11-01</td><td>3.149143</td><td>&quot;oben_c&quot;</td></tr></tbody></table></div>"
      ],
      "text/plain": [
       "shape: (42, 5)\n",
       "┌────────┬───────┬────────────┬──────────────────────┬──────────────┐\n",
       "│ device ┆ phase ┆ date       ┆ total_act_energy_kwh ┆ device_phase │\n",
       "│ ---    ┆ ---   ┆ ---        ┆ ---                  ┆ ---          │\n",
       "│ str    ┆ enum  ┆ date       ┆ f64                  ┆ str          │\n",
       "╞════════╪═══════╪════════════╪══════════════════════╪══════════════╡\n",
       "│ unten  ┆ a     ┆ 2024-05-01 ┆ 13.656692            ┆ unten_a      │\n",
       "│ unten  ┆ a     ┆ 2024-06-01 ┆ 20.890274            ┆ unten_a      │\n",
       "│ unten  ┆ a     ┆ 2024-07-01 ┆ 24.905331            ┆ unten_a      │\n",
       "│ unten  ┆ a     ┆ 2024-08-01 ┆ 25.656352            ┆ unten_a      │\n",
       "│ unten  ┆ a     ┆ 2024-09-01 ┆ 27.961295            ┆ unten_a      │\n",
       "│ …      ┆ …     ┆ …          ┆ …                    ┆ …            │\n",
       "│ oben   ┆ c     ┆ 2024-07-01 ┆ 2.997995             ┆ oben_c       │\n",
       "│ oben   ┆ c     ┆ 2024-08-01 ┆ 2.980132             ┆ oben_c       │\n",
       "│ oben   ┆ c     ┆ 2024-09-01 ┆ 2.857883             ┆ oben_c       │\n",
       "│ oben   ┆ c     ┆ 2024-10-01 ┆ 3.006239             ┆ oben_c       │\n",
       "│ oben   ┆ c     ┆ 2024-11-01 ┆ 3.149143             ┆ oben_c       │\n",
       "└────────┴───────┴────────────┴──────────────────────┴──────────────┘"
      ]
     },
     "execution_count": 76,
     "metadata": {},
     "output_type": "execute_result"
    }
   ],
   "source": [
    "month = data.total_energy(every=\"1mo\")\n",
    "month = month.with_columns(pl.concat_str([pl.col(\"device\"), pl.col(\"phase\")], separator=\"_\").alias(\"device_phase\"))\n",
    "month = month.collect()\n",
    "month"
   ]
  },
  {
   "cell_type": "code",
   "execution_count": 95,
   "id": "26affd1d",
   "metadata": {},
   "outputs": [
    {
     "data": {
      "text/html": [
       "\n",
       "<style>\n",
       "  #altair-viz-cc91460aa6f64f7893de45cd72997f29.vega-embed {\n",
       "    width: 100%;\n",
       "    display: flex;\n",
       "  }\n",
       "\n",
       "  #altair-viz-cc91460aa6f64f7893de45cd72997f29.vega-embed details,\n",
       "  #altair-viz-cc91460aa6f64f7893de45cd72997f29.vega-embed details summary {\n",
       "    position: relative;\n",
       "  }\n",
       "</style>\n",
       "<div id=\"altair-viz-cc91460aa6f64f7893de45cd72997f29\"></div>\n",
       "<script type=\"text/javascript\">\n",
       "  var VEGA_DEBUG = (typeof VEGA_DEBUG == \"undefined\") ? {} : VEGA_DEBUG;\n",
       "  (function(spec, embedOpt){\n",
       "    let outputDiv = document.currentScript.previousElementSibling;\n",
       "    if (outputDiv.id !== \"altair-viz-cc91460aa6f64f7893de45cd72997f29\") {\n",
       "      outputDiv = document.getElementById(\"altair-viz-cc91460aa6f64f7893de45cd72997f29\");\n",
       "    }\n",
       "\n",
       "    const paths = {\n",
       "      \"vega\": \"https://cdn.jsdelivr.net/npm/vega@5?noext\",\n",
       "      \"vega-lib\": \"https://cdn.jsdelivr.net/npm/vega-lib?noext\",\n",
       "      \"vega-lite\": \"https://cdn.jsdelivr.net/npm/vega-lite@5.20.1?noext\",\n",
       "      \"vega-embed\": \"https://cdn.jsdelivr.net/npm/vega-embed@6?noext\",\n",
       "    };\n",
       "\n",
       "    function maybeLoadScript(lib, version) {\n",
       "      var key = `${lib.replace(\"-\", \"\")}_version`;\n",
       "      return (VEGA_DEBUG[key] == version) ?\n",
       "        Promise.resolve(paths[lib]) :\n",
       "        new Promise(function(resolve, reject) {\n",
       "          var s = document.createElement('script');\n",
       "          document.getElementsByTagName(\"head\")[0].appendChild(s);\n",
       "          s.async = true;\n",
       "          s.onload = () => {\n",
       "            VEGA_DEBUG[key] = version;\n",
       "            return resolve(paths[lib]);\n",
       "          };\n",
       "          s.onerror = () => reject(`Error loading script: ${paths[lib]}`);\n",
       "          s.src = paths[lib];\n",
       "        });\n",
       "    }\n",
       "\n",
       "    function showError(err) {\n",
       "      outputDiv.innerHTML = `<div class=\"error\" style=\"color:red;\">${err}</div>`;\n",
       "      throw err;\n",
       "    }\n",
       "\n",
       "    function displayChart(vegaEmbed) {\n",
       "      vegaEmbed(outputDiv, spec, embedOpt)\n",
       "        .catch(err => showError(`Javascript Error: ${err.message}<br>This usually means there's a typo in your chart specification. See the javascript console for the full traceback.`));\n",
       "    }\n",
       "\n",
       "    if(typeof define === \"function\" && define.amd) {\n",
       "      requirejs.config({paths});\n",
       "      let deps = [\"vega-embed\"];\n",
       "      require(deps, displayChart, err => showError(`Error loading script: ${err.message}`));\n",
       "    } else {\n",
       "      maybeLoadScript(\"vega\", \"5\")\n",
       "        .then(() => maybeLoadScript(\"vega-lite\", \"5.20.1\"))\n",
       "        .then(() => maybeLoadScript(\"vega-embed\", \"6\"))\n",
       "        .catch(showError)\n",
       "        .then(() => displayChart(vegaEmbed));\n",
       "    }\n",
       "  })({\"config\": {\"view\": {\"continuousWidth\": 300, \"continuousHeight\": 300}}, \"data\": {\"name\": \"data-7adaef7b67b65e8f08ef761629fb8d82\"}, \"mark\": {\"type\": \"bar\", \"size\": 20, \"tooltip\": true}, \"encoding\": {\"color\": {\"field\": \"device_phase\", \"title\": \"Device / Phase\", \"type\": \"nominal\"}, \"x\": {\"field\": \"date\", \"title\": \"Date\", \"type\": \"temporal\"}, \"y\": {\"field\": \"total_act_energy_kwh\", \"title\": \"Energy [kWh]\", \"type\": \"quantitative\"}}, \"title\": \"Energy by month\", \"$schema\": \"https://vega.github.io/schema/vega-lite/v5.20.1.json\", \"datasets\": {\"data-7adaef7b67b65e8f08ef761629fb8d82\": [{\"device\": \"unten\", \"phase\": \"a\", \"date\": \"2024-05-01T00:00:00\", \"total_act_energy_kwh\": 13.656691500000436, \"device_phase\": \"unten_a\"}, {\"device\": \"unten\", \"phase\": \"a\", \"date\": \"2024-06-01T00:00:00\", \"total_act_energy_kwh\": 20.89027360000077, \"device_phase\": \"unten_a\"}, {\"device\": \"unten\", \"phase\": \"a\", \"date\": \"2024-07-01T00:00:00\", \"total_act_energy_kwh\": 24.90533120000033, \"device_phase\": \"unten_a\"}, {\"device\": \"unten\", \"phase\": \"a\", \"date\": \"2024-08-01T00:00:00\", \"total_act_energy_kwh\": 25.656352099999797, \"device_phase\": \"unten_a\"}, {\"device\": \"unten\", \"phase\": \"a\", \"date\": \"2024-09-01T00:00:00\", \"total_act_energy_kwh\": 27.961294599999828, \"device_phase\": \"unten_a\"}, {\"device\": \"unten\", \"phase\": \"a\", \"date\": \"2024-10-01T00:00:00\", \"total_act_energy_kwh\": 30.333510500000504, \"device_phase\": \"unten_a\"}, {\"device\": \"unten\", \"phase\": \"a\", \"date\": \"2024-11-01T00:00:00\", \"total_act_energy_kwh\": 26.54780589999946, \"device_phase\": \"unten_a\"}, {\"device\": \"oben\", \"phase\": \"a\", \"date\": \"2024-05-01T00:00:00\", \"total_act_energy_kwh\": 4.730186099999514, \"device_phase\": \"oben_a\"}, {\"device\": \"oben\", \"phase\": \"a\", \"date\": \"2024-06-01T00:00:00\", \"total_act_energy_kwh\": 7.9580607999991315, \"device_phase\": \"oben_a\"}, {\"device\": \"oben\", \"phase\": \"a\", \"date\": \"2024-07-01T00:00:00\", \"total_act_energy_kwh\": 8.204249799999525, \"device_phase\": \"oben_a\"}, {\"device\": \"oben\", \"phase\": \"a\", \"date\": \"2024-08-01T00:00:00\", \"total_act_energy_kwh\": 8.387642099999825, \"device_phase\": \"oben_a\"}, {\"device\": \"oben\", \"phase\": \"a\", \"date\": \"2024-09-01T00:00:00\", \"total_act_energy_kwh\": 13.470968600000628, \"device_phase\": \"oben_a\"}, {\"device\": \"oben\", \"phase\": \"a\", \"date\": \"2024-10-01T00:00:00\", \"total_act_energy_kwh\": 17.812909100002244, \"device_phase\": \"oben_a\"}, {\"device\": \"oben\", \"phase\": \"a\", \"date\": \"2024-11-01T00:00:00\", \"total_act_energy_kwh\": 11.317293300000372, \"device_phase\": \"oben_a\"}, {\"device\": \"unten\", \"phase\": \"b\", \"date\": \"2024-05-01T00:00:00\", \"total_act_energy_kwh\": 16.54797319999959, \"device_phase\": \"unten_b\"}, {\"device\": \"unten\", \"phase\": \"b\", \"date\": \"2024-06-01T00:00:00\", \"total_act_energy_kwh\": 25.77468009999993, \"device_phase\": \"unten_b\"}, {\"device\": \"unten\", \"phase\": \"b\", \"date\": \"2024-07-01T00:00:00\", \"total_act_energy_kwh\": 21.20877879999824, \"device_phase\": \"unten_b\"}, {\"device\": \"unten\", \"phase\": \"b\", \"date\": \"2024-08-01T00:00:00\", \"total_act_energy_kwh\": 16.222309500000115, \"device_phase\": \"unten_b\"}, {\"device\": \"unten\", \"phase\": \"b\", \"date\": \"2024-09-01T00:00:00\", \"total_act_energy_kwh\": 18.92052029999952, \"device_phase\": \"unten_b\"}, {\"device\": \"unten\", \"phase\": \"b\", \"date\": \"2024-10-01T00:00:00\", \"total_act_energy_kwh\": 21.565660300000037, \"device_phase\": \"unten_b\"}, {\"device\": \"unten\", \"phase\": \"b\", \"date\": \"2024-11-01T00:00:00\", \"total_act_energy_kwh\": 24.21646670000026, \"device_phase\": \"unten_b\"}, {\"device\": \"oben\", \"phase\": \"b\", \"date\": \"2024-05-01T00:00:00\", \"total_act_energy_kwh\": 6.685208000000101, \"device_phase\": \"oben_b\"}, {\"device\": \"oben\", \"phase\": \"b\", \"date\": \"2024-06-01T00:00:00\", \"total_act_energy_kwh\": 9.131152399994319, \"device_phase\": \"oben_b\"}, {\"device\": \"oben\", \"phase\": \"b\", \"date\": \"2024-07-01T00:00:00\", \"total_act_energy_kwh\": 5.964030400001863, \"device_phase\": \"oben_b\"}, {\"device\": \"oben\", \"phase\": \"b\", \"date\": \"2024-08-01T00:00:00\", \"total_act_energy_kwh\": 6.715203200003114, \"device_phase\": \"oben_b\"}, {\"device\": \"oben\", \"phase\": \"b\", \"date\": \"2024-09-01T00:00:00\", \"total_act_energy_kwh\": 4.815719699999703, \"device_phase\": \"oben_b\"}, {\"device\": \"oben\", \"phase\": \"b\", \"date\": \"2024-10-01T00:00:00\", \"total_act_energy_kwh\": 5.517064000001801, \"device_phase\": \"oben_b\"}, {\"device\": \"oben\", \"phase\": \"b\", \"date\": \"2024-11-01T00:00:00\", \"total_act_energy_kwh\": 4.847955399999864, \"device_phase\": \"oben_b\"}, {\"device\": \"unten\", \"phase\": \"c\", \"date\": \"2024-05-01T00:00:00\", \"total_act_energy_kwh\": 22.916870799998524, \"device_phase\": \"unten_c\"}, {\"device\": \"unten\", \"phase\": \"c\", \"date\": \"2024-06-01T00:00:00\", \"total_act_energy_kwh\": 35.156003599994186, \"device_phase\": \"unten_c\"}, {\"device\": \"unten\", \"phase\": \"c\", \"date\": \"2024-07-01T00:00:00\", \"total_act_energy_kwh\": 39.27617849999329, \"device_phase\": \"unten_c\"}, {\"device\": \"unten\", \"phase\": \"c\", \"date\": \"2024-08-01T00:00:00\", \"total_act_energy_kwh\": 38.32388739999493, \"device_phase\": \"unten_c\"}, {\"device\": \"unten\", \"phase\": \"c\", \"date\": \"2024-09-01T00:00:00\", \"total_act_energy_kwh\": 39.096395999992666, \"device_phase\": \"unten_c\"}, {\"device\": \"unten\", \"phase\": \"c\", \"date\": \"2024-10-01T00:00:00\", \"total_act_energy_kwh\": 41.40222659999273, \"device_phase\": \"unten_c\"}, {\"device\": \"unten\", \"phase\": \"c\", \"date\": \"2024-11-01T00:00:00\", \"total_act_energy_kwh\": 40.314228499996695, \"device_phase\": \"unten_c\"}, {\"device\": \"oben\", \"phase\": \"c\", \"date\": \"2024-05-01T00:00:00\", \"total_act_energy_kwh\": 2.166965299999884, \"device_phase\": \"oben_c\"}, {\"device\": \"oben\", \"phase\": \"c\", \"date\": \"2024-06-01T00:00:00\", \"total_act_energy_kwh\": 3.363314600000659, \"device_phase\": \"oben_c\"}, {\"device\": \"oben\", \"phase\": \"c\", \"date\": \"2024-07-01T00:00:00\", \"total_act_energy_kwh\": 2.9979946999998743, \"device_phase\": \"oben_c\"}, {\"device\": \"oben\", \"phase\": \"c\", \"date\": \"2024-08-01T00:00:00\", \"total_act_energy_kwh\": 2.980132100000112, \"device_phase\": \"oben_c\"}, {\"device\": \"oben\", \"phase\": \"c\", \"date\": \"2024-09-01T00:00:00\", \"total_act_energy_kwh\": 2.857883299999904, \"device_phase\": \"oben_c\"}, {\"device\": \"oben\", \"phase\": \"c\", \"date\": \"2024-10-01T00:00:00\", \"total_act_energy_kwh\": 3.006239300000138, \"device_phase\": \"oben_c\"}, {\"device\": \"oben\", \"phase\": \"c\", \"date\": \"2024-11-01T00:00:00\", \"total_act_energy_kwh\": 3.1491426000003333, \"device_phase\": \"oben_c\"}]}}, {\"mode\": \"vega-lite\"});\n",
       "</script>"
      ],
      "text/plain": [
       "alt.Chart(...)"
      ]
     },
     "execution_count": 95,
     "metadata": {},
     "output_type": "execute_result"
    }
   ],
   "source": [
    "chart = (\n",
    "    alt.Chart(month)\n",
    "    .mark_bar(size=20,tooltip=True)\n",
    "    .encode(\n",
    "        x=alt.X(\"date\", type=\"temporal\").title(\"Date\"),\n",
    "        y=alt.Y(\"total_act_energy_kwh\", type=\"quantitative\").title(\"Energy [kWh]\"),\n",
    "        color=alt.Color(\"device_phase\", type=\"nominal\").title(\"Device / Phase\"),\n",
    "    )\n",
    "    .properties(title=\"Energy by month\")\n",
    ")\n",
    "chart"
   ]
  },
  {
   "cell_type": "markdown",
   "id": "6e8ce139",
   "metadata": {},
   "source": [
    "## Energy by week"
   ]
  },
  {
   "cell_type": "code",
   "execution_count": 56,
   "id": "6fc41bcd",
   "metadata": {},
   "outputs": [
    {
     "data": {
      "text/html": [
       "<div><style>\n",
       ".dataframe > thead > tr,\n",
       ".dataframe > tbody > tr {\n",
       "  text-align: right;\n",
       "  white-space: pre-wrap;\n",
       "}\n",
       "</style>\n",
       "<small>shape: (168, 5)</small><table border=\"1\" class=\"dataframe\"><thead><tr><th>device</th><th>phase</th><th>date</th><th>total_act_energy_kwh</th><th>device_phase</th></tr><tr><td>str</td><td>enum</td><td>date</td><td>f64</td><td>str</td></tr></thead><tbody><tr><td>&quot;unten&quot;</td><td>&quot;a&quot;</td><td>2024-05-13</td><td>4.520481</td><td>&quot;unten_a&quot;</td></tr><tr><td>&quot;unten&quot;</td><td>&quot;a&quot;</td><td>2024-05-20</td><td>5.397368</td><td>&quot;unten_a&quot;</td></tr><tr><td>&quot;unten&quot;</td><td>&quot;a&quot;</td><td>2024-05-27</td><td>5.173986</td><td>&quot;unten_a&quot;</td></tr><tr><td>&quot;unten&quot;</td><td>&quot;a&quot;</td><td>2024-06-03</td><td>3.714145</td><td>&quot;unten_a&quot;</td></tr><tr><td>&quot;unten&quot;</td><td>&quot;a&quot;</td><td>2024-06-10</td><td>5.505918</td><td>&quot;unten_a&quot;</td></tr><tr><td>&hellip;</td><td>&hellip;</td><td>&hellip;</td><td>&hellip;</td><td>&hellip;</td></tr><tr><td>&quot;oben&quot;</td><td>&quot;c&quot;</td><td>2024-10-21</td><td>0.652337</td><td>&quot;oben_c&quot;</td></tr><tr><td>&quot;oben&quot;</td><td>&quot;c&quot;</td><td>2024-10-28</td><td>0.745624</td><td>&quot;oben_c&quot;</td></tr><tr><td>&quot;oben&quot;</td><td>&quot;c&quot;</td><td>2024-11-04</td><td>0.740028</td><td>&quot;oben_c&quot;</td></tr><tr><td>&quot;oben&quot;</td><td>&quot;c&quot;</td><td>2024-11-11</td><td>1.056416</td><td>&quot;oben_c&quot;</td></tr><tr><td>&quot;oben&quot;</td><td>&quot;c&quot;</td><td>2024-11-18</td><td>0.999602</td><td>&quot;oben_c&quot;</td></tr></tbody></table></div>"
      ],
      "text/plain": [
       "shape: (168, 5)\n",
       "┌────────┬───────┬────────────┬──────────────────────┬──────────────┐\n",
       "│ device ┆ phase ┆ date       ┆ total_act_energy_kwh ┆ device_phase │\n",
       "│ ---    ┆ ---   ┆ ---        ┆ ---                  ┆ ---          │\n",
       "│ str    ┆ enum  ┆ date       ┆ f64                  ┆ str          │\n",
       "╞════════╪═══════╪════════════╪══════════════════════╪══════════════╡\n",
       "│ unten  ┆ a     ┆ 2024-05-13 ┆ 4.520481             ┆ unten_a      │\n",
       "│ unten  ┆ a     ┆ 2024-05-20 ┆ 5.397368             ┆ unten_a      │\n",
       "│ unten  ┆ a     ┆ 2024-05-27 ┆ 5.173986             ┆ unten_a      │\n",
       "│ unten  ┆ a     ┆ 2024-06-03 ┆ 3.714145             ┆ unten_a      │\n",
       "│ unten  ┆ a     ┆ 2024-06-10 ┆ 5.505918             ┆ unten_a      │\n",
       "│ …      ┆ …     ┆ …          ┆ …                    ┆ …            │\n",
       "│ oben   ┆ c     ┆ 2024-10-21 ┆ 0.652337             ┆ oben_c       │\n",
       "│ oben   ┆ c     ┆ 2024-10-28 ┆ 0.745624             ┆ oben_c       │\n",
       "│ oben   ┆ c     ┆ 2024-11-04 ┆ 0.740028             ┆ oben_c       │\n",
       "│ oben   ┆ c     ┆ 2024-11-11 ┆ 1.056416             ┆ oben_c       │\n",
       "│ oben   ┆ c     ┆ 2024-11-18 ┆ 0.999602             ┆ oben_c       │\n",
       "└────────┴───────┴────────────┴──────────────────────┴──────────────┘"
      ]
     },
     "execution_count": 56,
     "metadata": {},
     "output_type": "execute_result"
    }
   ],
   "source": [
    "week = data.total_energy(every=\"1w\")\n",
    "week = week.with_columns(pl.concat_str([pl.col(\"device\"), pl.col(\"phase\")], separator=\"_\").alias(\"device_phase\"))\n",
    "week = week.collect()\n",
    "week"
   ]
  },
  {
   "cell_type": "code",
   "execution_count": 57,
   "id": "5fc65fb2",
   "metadata": {},
   "outputs": [
    {
     "ename": "MaxRowsError",
     "evalue": "The number of rows in your dataset is greater than the maximum allowed (5000).\n\nTry enabling the VegaFusion data transformer which raises this limit by pre-evaluating data\ntransformations in Python.\n    >> import altair as alt\n    >> alt.data_transformers.enable(\"vegafusion\")\n\nOr, see https://altair-viz.github.io/user_guide/large_datasets.html for additional information\non how to plot large datasets.",
     "output_type": "error",
     "traceback": [
      "\u001b[0;31m---------------------------------------------------------------------------\u001b[0m",
      "\u001b[0;31mMaxRowsError\u001b[0m                              Traceback (most recent call last)",
      "File \u001b[0;32m~/git/energy-monitor/.venv/lib/python3.12/site-packages/altair/vegalite/v5/api.py:4033\u001b[0m, in \u001b[0;36mChart.to_dict\u001b[0;34m(self, validate, format, ignore, context)\u001b[0m\n\u001b[1;32m   4031\u001b[0m     copy\u001b[38;5;241m.\u001b[39mdata \u001b[38;5;241m=\u001b[39m core\u001b[38;5;241m.\u001b[39mInlineData(values\u001b[38;5;241m=\u001b[39m[{}])\n\u001b[1;32m   4032\u001b[0m     \u001b[38;5;28;01mreturn\u001b[39;00m \u001b[38;5;28msuper\u001b[39m(Chart, copy)\u001b[38;5;241m.\u001b[39mto_dict(\u001b[38;5;241m*\u001b[39m\u001b[38;5;241m*\u001b[39mkwds)\n\u001b[0;32m-> 4033\u001b[0m \u001b[38;5;28;01mreturn\u001b[39;00m \u001b[38;5;28;43msuper\u001b[39;49m\u001b[43m(\u001b[49m\u001b[43m)\u001b[49m\u001b[38;5;241;43m.\u001b[39;49m\u001b[43mto_dict\u001b[49m\u001b[43m(\u001b[49m\u001b[38;5;241;43m*\u001b[39;49m\u001b[38;5;241;43m*\u001b[39;49m\u001b[43mkwds\u001b[49m\u001b[43m)\u001b[49m\n",
      "File \u001b[0;32m~/git/energy-monitor/.venv/lib/python3.12/site-packages/altair/vegalite/v5/api.py:1998\u001b[0m, in \u001b[0;36mTopLevelMixin.to_dict\u001b[0;34m(self, validate, format, ignore, context)\u001b[0m\n\u001b[1;32m   1995\u001b[0m     \u001b[38;5;28;01mexcept\u001b[39;00m \u001b[38;5;167;01mTypeError\u001b[39;00m:\n\u001b[1;32m   1996\u001b[0m         \u001b[38;5;66;03m# Non-narwhalifiable type supported by Altair, such as dict\u001b[39;00m\n\u001b[1;32m   1997\u001b[0m         data \u001b[38;5;241m=\u001b[39m original_data\n\u001b[0;32m-> 1998\u001b[0m     copy\u001b[38;5;241m.\u001b[39mdata \u001b[38;5;241m=\u001b[39m \u001b[43m_prepare_data\u001b[49m\u001b[43m(\u001b[49m\u001b[43mdata\u001b[49m\u001b[43m,\u001b[49m\u001b[43m \u001b[49m\u001b[43mcontext\u001b[49m\u001b[43m)\u001b[49m\n\u001b[1;32m   1999\u001b[0m     context[\u001b[38;5;124m\"\u001b[39m\u001b[38;5;124mdata\u001b[39m\u001b[38;5;124m\"\u001b[39m] \u001b[38;5;241m=\u001b[39m data\n\u001b[1;32m   2001\u001b[0m \u001b[38;5;66;03m# remaining to_dict calls are not at top level\u001b[39;00m\n",
      "File \u001b[0;32m~/git/energy-monitor/.venv/lib/python3.12/site-packages/altair/vegalite/v5/api.py:283\u001b[0m, in \u001b[0;36m_prepare_data\u001b[0;34m(data, context)\u001b[0m\n\u001b[1;32m    281\u001b[0m \u001b[38;5;28;01melif\u001b[39;00m \u001b[38;5;129;01mnot\u001b[39;00m \u001b[38;5;28misinstance\u001b[39m(data, \u001b[38;5;28mdict\u001b[39m) \u001b[38;5;129;01mand\u001b[39;00m _is_data_type(data):\n\u001b[1;32m    282\u001b[0m     \u001b[38;5;28;01mif\u001b[39;00m func \u001b[38;5;241m:=\u001b[39m data_transformers\u001b[38;5;241m.\u001b[39mget():\n\u001b[0;32m--> 283\u001b[0m         data \u001b[38;5;241m=\u001b[39m \u001b[43mfunc\u001b[49m\u001b[43m(\u001b[49m\u001b[43mnw\u001b[49m\u001b[38;5;241;43m.\u001b[39;49m\u001b[43mto_native\u001b[49m\u001b[43m(\u001b[49m\u001b[43mdata\u001b[49m\u001b[43m,\u001b[49m\u001b[43m \u001b[49m\u001b[43mpass_through\u001b[49m\u001b[38;5;241;43m=\u001b[39;49m\u001b[38;5;28;43;01mTrue\u001b[39;49;00m\u001b[43m)\u001b[49m\u001b[43m)\u001b[49m\n\u001b[1;32m    285\u001b[0m \u001b[38;5;66;03m# convert string input to a URLData\u001b[39;00m\n\u001b[1;32m    286\u001b[0m \u001b[38;5;28;01melif\u001b[39;00m \u001b[38;5;28misinstance\u001b[39m(data, \u001b[38;5;28mstr\u001b[39m):\n",
      "File \u001b[0;32m~/git/energy-monitor/.venv/lib/python3.12/site-packages/altair/vegalite/data.py:42\u001b[0m, in \u001b[0;36mdefault_data_transformer\u001b[0;34m(data, max_rows)\u001b[0m\n\u001b[1;32m     39\u001b[0m     \u001b[38;5;28;01mreturn\u001b[39;00m pipe\n\u001b[1;32m     41\u001b[0m \u001b[38;5;28;01melse\u001b[39;00m:\n\u001b[0;32m---> 42\u001b[0m     \u001b[38;5;28;01mreturn\u001b[39;00m to_values(\u001b[43mlimit_rows\u001b[49m\u001b[43m(\u001b[49m\u001b[43mdata\u001b[49m\u001b[43m,\u001b[49m\u001b[43m \u001b[49m\u001b[43mmax_rows\u001b[49m\u001b[38;5;241;43m=\u001b[39;49m\u001b[43mmax_rows\u001b[49m\u001b[43m)\u001b[49m)\n",
      "File \u001b[0;32m~/git/energy-monitor/.venv/lib/python3.12/site-packages/altair/utils/data.py:165\u001b[0m, in \u001b[0;36mlimit_rows\u001b[0;34m(data, max_rows)\u001b[0m\n\u001b[1;32m    162\u001b[0m     values \u001b[38;5;241m=\u001b[39m data\n\u001b[1;32m    164\u001b[0m \u001b[38;5;28;01mif\u001b[39;00m max_rows \u001b[38;5;129;01mis\u001b[39;00m \u001b[38;5;129;01mnot\u001b[39;00m \u001b[38;5;28;01mNone\u001b[39;00m \u001b[38;5;129;01mand\u001b[39;00m \u001b[38;5;28mlen\u001b[39m(values) \u001b[38;5;241m>\u001b[39m max_rows:\n\u001b[0;32m--> 165\u001b[0m     \u001b[43mraise_max_rows_error\u001b[49m\u001b[43m(\u001b[49m\u001b[43m)\u001b[49m\n\u001b[1;32m    167\u001b[0m \u001b[38;5;28;01mreturn\u001b[39;00m data\n",
      "File \u001b[0;32m~/git/energy-monitor/.venv/lib/python3.12/site-packages/altair/utils/data.py:148\u001b[0m, in \u001b[0;36mlimit_rows.<locals>.raise_max_rows_error\u001b[0;34m()\u001b[0m\n\u001b[1;32m    135\u001b[0m \u001b[38;5;28;01mdef\u001b[39;00m \u001b[38;5;21mraise_max_rows_error\u001b[39m():\n\u001b[1;32m    136\u001b[0m     msg \u001b[38;5;241m=\u001b[39m (\n\u001b[1;32m    137\u001b[0m         \u001b[38;5;124m\"\u001b[39m\u001b[38;5;124mThe number of rows in your dataset is greater \u001b[39m\u001b[38;5;124m\"\u001b[39m\n\u001b[1;32m    138\u001b[0m         \u001b[38;5;124mf\u001b[39m\u001b[38;5;124m\"\u001b[39m\u001b[38;5;124mthan the maximum allowed (\u001b[39m\u001b[38;5;132;01m{\u001b[39;00mmax_rows\u001b[38;5;132;01m}\u001b[39;00m\u001b[38;5;124m).\u001b[39m\u001b[38;5;130;01m\\n\u001b[39;00m\u001b[38;5;130;01m\\n\u001b[39;00m\u001b[38;5;124m\"\u001b[39m\n\u001b[0;32m   (...)\u001b[0m\n\u001b[1;32m    146\u001b[0m         \u001b[38;5;124m\"\u001b[39m\u001b[38;5;124mon how to plot large datasets.\u001b[39m\u001b[38;5;124m\"\u001b[39m\n\u001b[1;32m    147\u001b[0m     )\n\u001b[0;32m--> 148\u001b[0m     \u001b[38;5;28;01mraise\u001b[39;00m MaxRowsError(msg)\n",
      "\u001b[0;31mMaxRowsError\u001b[0m: The number of rows in your dataset is greater than the maximum allowed (5000).\n\nTry enabling the VegaFusion data transformer which raises this limit by pre-evaluating data\ntransformations in Python.\n    >> import altair as alt\n    >> alt.data_transformers.enable(\"vegafusion\")\n\nOr, see https://altair-viz.github.io/user_guide/large_datasets.html for additional information\non how to plot large datasets."
     ]
    },
    {
     "data": {
      "text/plain": [
       "alt.Chart(...)"
      ]
     },
     "execution_count": 57,
     "metadata": {},
     "output_type": "execute_result"
    }
   ],
   "source": [
    "df.plot.line(\n",
    "            x=alt.X(\"date\", type=\"temporal\").title(\"Date\"),\n",
    "            y=alt.Y(\"total_act_energy_kwh\", type=\"quantitative\").title(\"Energy [kWh]\"),\n",
    "            color=alt.Color(\"device_phase\", type=\"nominal\").title(\"Device / Phase\"),\n",
    "        ).properties(title=\"Energy by week\")"
   ]
  },
  {
   "cell_type": "code",
   "execution_count": null,
   "id": "f54e0163-226c-462d-8e2c-167b0a616072",
   "metadata": {},
   "outputs": [],
   "source": [
    "data.plot_total_energy(\"1d\")"
   ]
  }
 ],
 "metadata": {
  "kernelspec": {
   "display_name": ".venv",
   "language": "python",
   "name": "python3"
  },
  "language_info": {
   "codemirror_mode": {
    "name": "ipython",
    "version": 3
   },
   "file_extension": ".py",
   "mimetype": "text/x-python",
   "name": "python",
   "nbconvert_exporter": "python",
   "pygments_lexer": "ipython3",
   "version": "3.12.3"
  }
 },
 "nbformat": 4,
 "nbformat_minor": 5
}
