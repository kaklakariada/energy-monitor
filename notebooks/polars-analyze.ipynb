{
 "cells": [
  {
   "cell_type": "code",
   "execution_count": null,
   "id": "73bcd8fa-2946-45c0-93a6-316a20b1428a",
   "metadata": {},
   "outputs": [],
   "source": [
    "import logging\n",
    "from pathlib import Path\n",
    "import polars as pl\n",
    "import hvplot\n",
    "\n",
    "from analyzepolar.loader import DeviceDataSource\n",
    "from analyzepolar.logger import POLAR_ANALYZER_LOGGER\n",
    "from analyzepolar.model import PolarDeviceData\n",
    "from analyzer.common import PHASE_COLUMNS, Phase\n",
    "\n",
    "logging.basicConfig(level=logging.INFO, format=\"%(asctime)s - %(threadName)s - %(levelname)s - %(name)s - %(message)s\")\n",
    "POLAR_ANALYZER_LOGGER.setLevel(logging.INFO)\n",
    "_logger = POLAR_ANALYZER_LOGGER.getChild(\"notebook\")\n",
    "data_dir=Path(\"../data/\")\n",
    "assert data_dir.exists()"
   ]
  },
  {
   "cell_type": "code",
   "execution_count": null,
   "id": "1697cc0e-136c-4334-9395-b11ca0c43d84",
   "metadata": {},
   "outputs": [],
   "source": [
    "\n",
    "data = PolarDeviceData.load([DeviceDataSource(data_dir/\"unten\", \"unten\"), DeviceDataSource(data_dir/\"oben\", \"oben\")])"
   ]
  },
  {
   "cell_type": "code",
   "execution_count": null,
   "id": "707d8ffd-7890-4cee-af46-6bbc6576a710",
   "metadata": {},
   "outputs": [],
   "source": [
    "_logger.info(\"Collecting data...\")\n",
    "df = data.phase_data.collect()\n",
    "_logger.info(f\"Found {len(df)} rows\")\n",
    "df.head(3)"
   ]
  },
  {
   "cell_type": "code",
   "execution_count": null,
   "id": "92ed6f3d-cb77-4bb4-9ad8-b71645acdda2",
   "metadata": {},
   "outputs": [],
   "source": [
    "data.total_energy(\"1d\").group_by([\"phase\",\"device\"]).agg(pl.sum(\"total_act_energy\")).collect()"
   ]
  },
  {
   "cell_type": "code",
   "execution_count": null,
   "id": "931da382-f459-4d5c-98b8-c98877101603",
   "metadata": {},
   "outputs": [],
   "source": [
    "#data.plot_all(\"total_act_energy\")\n",
    "#data.plot(\"total_act_energy\", Phase.B, \"unten\")\n",
    "data.plot_total_energy(\"1d\",\"unten\",Phase.A)+data.plot_total_energy(\"1d\",\"unten\",Phase.B)+data.plot_total_energy(\"1d\",\"unten\",Phase.C)"
   ]
  },
  {
   "cell_type": "code",
   "execution_count": null,
   "id": "f54e0163-226c-462d-8e2c-167b0a616072",
   "metadata": {},
   "outputs": [],
   "source": [
    "data.plot_total_energy(\"1d\")"
   ]
  }
 ],
 "metadata": {
  "kernelspec": {
   "display_name": "Python 3 (ipykernel)",
   "language": "python",
   "name": "python3"
  },
  "language_info": {
   "codemirror_mode": {
    "name": "ipython",
    "version": 3
   },
   "file_extension": ".py",
   "mimetype": "text/x-python",
   "name": "python",
   "nbconvert_exporter": "python",
   "pygments_lexer": "ipython3",
   "version": "3.12.3"
  }
 },
 "nbformat": 4,
 "nbformat_minor": 5
}
